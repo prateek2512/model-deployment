{
 "cells": [
  {
   "cell_type": "code",
   "execution_count": 1,
   "metadata": {},
   "outputs": [
    {
     "data": {
      "text/plain": [
       "GridSearchCV(cv=10,\n",
       "             estimator=Pipeline(steps=[('standardscaler', StandardScaler()),\n",
       "                                       ('randomforestregressor',\n",
       "                                        RandomForestRegressor(random_state=123))]),\n",
       "             n_jobs=-1,\n",
       "             param_grid={'randomforestregressor__max_features': ['auto', 'sqrt',\n",
       "                                                                 0.33],\n",
       "                         'randomforestregressor__n_estimators': [100, 200]})"
      ]
     },
     "execution_count": 1,
     "metadata": {},
     "output_type": "execute_result"
    }
   ],
   "source": [
    "import numpy as np\n",
    "import pandas as pd\n",
    "import matplotlib.pyplot as plt\n",
    "import seaborn  as sns\n",
    "import pickle\n",
    "%matplotlib inline\n",
    "import warnings\n",
    "warnings.filterwarnings('ignore')\n",
    "d1=pd.read_csv('2018_Data.csv')\n",
    "d2=pd.read_csv('2019_Data.csv')\n",
    "df = pd.concat([d1,d2]).reset_index(drop = True)\n",
    "df1=df.copy()\n",
    "df1['time']=\" \"\n",
    "df1.time = (pd.to_datetime(df['Hour'].astype(str) + ':' + df['Minute'].astype(str), format='%H:%M')\n",
    "          .dt.time).astype(str)\n",
    "df1['time']=df1['time'].str.extract(r'(\\d{2}:\\d{2})')\n",
    "df1['time']=df1['time'].replace(['07:00','07:30','08:00','08:30','09:00','09:30','10:00','10:30','11:00','11:30'],1)\n",
    "df1['time']=df1['time'].replace(['12:00','12:30','13:00','13:30','14:00','14:30','15:00','15:30','16:00','16:30','17:00','17:30'],2)\n",
    "df1['time']=df1['time'].replace(['18:00','18:30','19:00','19:30'],3)\n",
    "df1['time']=df1['time'].replace(['20:00','20:30','21:00','21:30','22:00','22:30','23:00','23:30','00:00','00:30','01:00','01:30','02:00','02:30','03:00','03:30','04:00','04:30','05:00','05:30','06:00','06:30'],0)\n",
    "X=df1.drop(['Year','Month','Day','Hour','Minute','Clearsky GHI','GHI'],axis=1)\n",
    "Y=df1['GHI']\n",
    "from sklearn.decomposition import PCA\n",
    "pca = PCA(n_components=8)\n",
    "pci=pca.fit_transform(X)\n",
    "itemspca = pd.DataFrame(pci)\n",
    "itemspca.columns = ['PC{}'.format(i + 1) for i in range(pci.shape[1])]\n",
    "itemspca.index = df.index\n",
    "pca_xtrain = itemspca[:27000]\n",
    "pca_xtest = itemspca[27000:]\n",
    "from sklearn.ensemble import RandomForestRegressor\n",
    "X = pca_xtrain.copy()\n",
    "y = df['GHI']\n",
    "X_test = pca_xtest.copy()\n",
    "X_train = pca_xtrain.copy()\n",
    "X_test = pca_xtest.copy()\n",
    "y_train = y[:27000]\n",
    "y_test = y[27000:]\n",
    "X_train_new = (X_train - X_train.mean()) / X_train.std()\n",
    "from sklearn.pipeline import make_pipeline\n",
    "from sklearn.preprocessing import StandardScaler\n",
    "pipelines = make_pipeline(StandardScaler(), RandomForestRegressor(random_state=123))\n",
    "rf_hyperparameters = { \n",
    "    'randomforestregressor__n_estimators' : [700, 1100],\n",
    "    'randomforestregressor__max_features': ['auto', 'sqrt', 0.33],\n",
    "}\n",
    "from sklearn.model_selection import GridSearchCV\n",
    "model = GridSearchCV(pipelines, rf_hyperparameters, cv=10, n_jobs=-1)\n",
    "model.fit(X_train, y_train)\n",
    "\n",
    "# pickle.dump(model, open('model.pkl','wb'))\n",
    "# pickle.dump(pca, open('pca.pkl','wb'))\n"
   ]
  },
  {
   "cell_type": "code",
   "execution_count": 2,
   "metadata": {},
   "outputs": [
    {
     "name": "stdout",
     "output_type": "stream",
     "text": [
      "train accuracy 0.9978490491755017\n",
      "test accuracy 0.9837099239342932\n"
     ]
    }
   ],
   "source": [
    "print('train accuracy',model.score(X_train,y_train))\n",
    "print('test accuracy',model.score(X_test,y_test))"
   ]
  }
 ],
 "metadata": {
  "kernelspec": {
   "display_name": "Python 3",
   "language": "python",
   "name": "python3"
  },
  "language_info": {
   "codemirror_mode": {
    "name": "ipython",
    "version": 3
   },
   "file_extension": ".py",
   "mimetype": "text/x-python",
   "name": "python",
   "nbconvert_exporter": "python",
   "pygments_lexer": "ipython3",
   "version": "3.8.5"
  }
 },
 "nbformat": 4,
 "nbformat_minor": 4
}
